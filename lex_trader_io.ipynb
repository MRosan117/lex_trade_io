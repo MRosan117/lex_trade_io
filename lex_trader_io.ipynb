{
 "cells": [
  {
   "cell_type": "code",
   "execution_count": 3,
   "id": "f51855c2-cc15-4079-a182-6ff5395f5630",
   "metadata": {
    "tags": []
   },
   "outputs": [
    {
     "ename": "ModuleNotFoundError",
     "evalue": "No module named 'dotenv'",
     "output_type": "error",
     "traceback": [
      "\u001b[0;31m---------------------------------------------------------------------------\u001b[0m",
      "\u001b[0;31mModuleNotFoundError\u001b[0m                       Traceback (most recent call last)",
      "Cell \u001b[0;32mIn[3], line 4\u001b[0m\n\u001b[1;32m      2\u001b[0m \u001b[38;5;28;01mimport\u001b[39;00m \u001b[38;5;21;01mrequests\u001b[39;00m\n\u001b[1;32m      3\u001b[0m \u001b[38;5;28;01mimport\u001b[39;00m \u001b[38;5;21;01mpandas\u001b[39;00m \u001b[38;5;28;01mas\u001b[39;00m \u001b[38;5;21;01mpd\u001b[39;00m\n\u001b[0;32m----> 4\u001b[0m \u001b[38;5;28;01mfrom\u001b[39;00m \u001b[38;5;21;01mdotenv\u001b[39;00m \u001b[38;5;28;01mimport\u001b[39;00m load_dotenv\n\u001b[1;32m      5\u001b[0m \u001b[38;5;28;01mimport\u001b[39;00m \u001b[38;5;21;01malpaca_trade_api\u001b[39;00m \u001b[38;5;28;01mas\u001b[39;00m \u001b[38;5;21;01mtradeapi\u001b[39;00m\n\u001b[1;32m      6\u001b[0m \u001b[38;5;28;01mfrom\u001b[39;00m \u001b[38;5;21;01malpaca\u001b[39;00m\u001b[38;5;21;01m.\u001b[39;00m\u001b[38;5;21;01mtrading\u001b[39;00m\u001b[38;5;21;01m.\u001b[39;00m\u001b[38;5;21;01mclient\u001b[39;00m \u001b[38;5;28;01mimport\u001b[39;00m TradingCLient\n",
      "\u001b[0;31mModuleNotFoundError\u001b[0m: No module named 'dotenv'"
     ]
    }
   ],
   "source": [
    "# import os\n",
    "# import requests\n",
    "# import pandas as pd\n",
    "# from dotenv import load_dotenv\n",
    "# import alpaca_trade_api as tradeapi\n",
    "# from alpaca.trading.client import TradingCLient\n",
    "# from alpaca.trading.enmus import OrderSide, TimeInForce\n",
    "# from alpaca.trading.stream import TradingStream\n",
    "\n",
    "# %matplotlib inLine"
   ]
  },
  {
   "cell_type": "code",
   "execution_count": null,
   "id": "9953895a-22fb-42d6-a219-3fba92a1bcc6",
   "metadata": {},
   "outputs": [],
   "source": [
    "# client=TradingClient(config.API_KEY, config.SECRET_KEY, paper=True)\n",
    "# account=dict(client.get_account())\n",
    "# for k,v in account.items():\n",
    "#     print(f\"{k:30}{v}\")\n",
    "    "
   ]
  },
  {
   "cell_type": "code",
   "execution_count": null,
   "id": "b426ee98-7ec2-40b5-9d47-be2f4158eaa0",
   "metadata": {},
   "outputs": [],
   "source": [
    "# order_details=MarketOrderRequest(\n",
    "#     symbol=\"SPY\",\n",
    "#     qty=100,\n",
    "#     side=OrderSide.BUY,\n",
    "#     time_in_force=TimeInForce.DAY\n",
    "# )"
   ]
  },
  {
   "cell_type": "code",
   "execution_count": null,
   "id": "b8bb5b69-5551-4622-8a26-24a77710c250",
   "metadata": {},
   "outputs": [],
   "source": [
    "# order=client.sumbit_order(order_data=order_details)"
   ]
  },
  {
   "cell_type": "code",
   "execution_count": null,
   "id": "ee86a408-a37b-4fde-a2d4-5c18c61ac4a0",
   "metadata": {},
   "outputs": [],
   "source": [
    "# traded=TradingStream(config.API_KEY, config.SECRET_KEY, paper=True)"
   ]
  },
  {
   "cell_type": "code",
   "execution_count": null,
   "id": "418b9bcf-e7dd-49d1-861a-8f1fffb8f043",
   "metadata": {},
   "outputs": [],
   "source": [
    "# async def trade_status(data):\n",
    "#     print(data)"
   ]
  },
  {
   "cell_type": "code",
   "execution_count": null,
   "id": "0dd49214-15ec-46c1-bed2-b1a1423dcd4d",
   "metadata": {},
   "outputs": [],
   "source": [
    "# trades.subscribe"
   ]
  },
  {
   "cell_type": "code",
   "execution_count": null,
   "id": "c7ce091e-605e-44bf-bf5a-4f6c736ec448",
   "metadata": {},
   "outputs": [],
   "source": [
    "# load_dotenv()"
   ]
  },
  {
   "cell_type": "code",
   "execution_count": null,
   "id": "49094387-f73b-4495-b194-bf1d865cb05c",
   "metadata": {},
   "outputs": [],
   "source": [
    "# alpaca_api_key=os.getenv(\"ALPACA_API_KEY\")\n",
    "# alpaca_secret_key=os.getenv(\"ALPACA_SECRET_KEY\")"
   ]
  },
  {
   "cell_type": "code",
   "execution_count": null,
   "id": "42cb6791-fa13-4d36-a8c4-aacdfd273e46",
   "metadata": {},
   "outputs": [],
   "source": [
    "# alpaca=tradeapi.REST(\n",
    "#     alpaca_api_key,\n",
    "#     alpaca_secret_key,\n",
    "#     api_version=\"v2\")"
   ]
  },
  {
   "cell_type": "code",
   "execution_count": null,
   "id": "8c82caf5-5191-4ffc-8d78-d46280a7f052",
   "metadata": {},
   "outputs": [],
   "source": [
    "# start=pd.Timestamp(\"2020-07-12\", tz=\"America/New_York\").isoformat()"
   ]
  },
  {
   "cell_type": "code",
   "execution_count": null,
   "id": "9fdefcc3-10d4-4f88-83ee-d83078d7f2c1",
   "metadata": {},
   "outputs": [],
   "source": [
    "# end=pd.Timestamp(\"2023_09_27\", tz=\"America/New_York\").isoformat()"
   ]
  },
  {
   "cell_type": "code",
   "execution_count": null,
   "id": "5b0a1479-8796-4494-bc6b-5fb128624b9f",
   "metadata": {},
   "outputs": [],
   "source": [
    "# ticker=['SPY']"
   ]
  },
  {
   "cell_type": "code",
   "execution_count": null,
   "id": "91714d1e-5f78-4fa8-aa72-1a23f4a32651",
   "metadata": {},
   "outputs": [],
   "source": [
    "# timeframe=\"15Min\""
   ]
  },
  {
   "cell_type": "code",
   "execution_count": null,
   "id": "8d162a39-ca01-4d42-b9cf-4a0b0a73b68b",
   "metadata": {},
   "outputs": [],
   "source": [
    "# df=alpaca.get_bars(\n",
    "#     ticker,\n",
    "#     timeframe,\n",
    "#     start=start,\n",
    "#     end=end\n",
    "# ).df\n",
    "\n",
    "# df"
   ]
  },
  {
   "cell_type": "code",
   "execution_count": 6,
   "id": "1037d2a9-52e8-4e9c-9144-da4392d9a36d",
   "metadata": {
    "collapsed": true,
    "jupyter": {
     "outputs_hidden": true
    },
    "tags": []
   },
   "outputs": [
    {
     "ename": "ModuleNotFoundError",
     "evalue": "No module named 'yfinance'",
     "output_type": "error",
     "traceback": [
      "\u001b[0;31m---------------------------------------------------------------------------\u001b[0m",
      "\u001b[0;31mModuleNotFoundError\u001b[0m                       Traceback (most recent call last)",
      "Cell \u001b[0;32mIn[6], line 4\u001b[0m\n\u001b[1;32m      2\u001b[0m \u001b[38;5;28;01mimport\u001b[39;00m \u001b[38;5;21;01mnumpy\u001b[39;00m \u001b[38;5;28;01mas\u001b[39;00m \u001b[38;5;21;01mnp\u001b[39;00m\n\u001b[1;32m      3\u001b[0m \u001b[38;5;28;01mimport\u001b[39;00m \u001b[38;5;21;01mpandas\u001b[39;00m \u001b[38;5;28;01mas\u001b[39;00m \u001b[38;5;21;01mpd\u001b[39;00m\n\u001b[0;32m----> 4\u001b[0m \u001b[38;5;28;01mimport\u001b[39;00m \u001b[38;5;21;01myfinance\u001b[39;00m \u001b[38;5;28;01mas\u001b[39;00m \u001b[38;5;21;01myf\u001b[39;00m\n\u001b[1;32m      5\u001b[0m \u001b[38;5;28;01mimport\u001b[39;00m \u001b[38;5;21;01mplotly\u001b[39;00m\u001b[38;5;21;01m.\u001b[39;00m\u001b[38;5;21;01mgraph_objs\u001b[39;00m \u001b[38;5;28;01mas\u001b[39;00m \u001b[38;5;21;01mgo\u001b[39;00m\n",
      "\u001b[0;31mModuleNotFoundError\u001b[0m: No module named 'yfinance'"
     ]
    }
   ],
   "source": [
    "# Import dependencies, data\n",
    "import numpy as np\n",
    "import pandas as pd\n",
    "import yfinance as yf\n",
    "import plotly.graph_objs as go"
   ]
  },
  {
   "cell_type": "code",
   "execution_count": null,
   "id": "78b7242d-45e9-4a35-9dbf-673cefa2aeb0",
   "metadata": {},
   "outputs": [],
   "source": [
    "yf.download(tickers=\"SPY\", period=\"1d\", interval=\"1m\")"
   ]
  },
  {
   "cell_type": "code",
   "execution_count": null,
   "id": "28d31376-de80-4162-a7f3-a2a167278e8f",
   "metadata": {},
   "outputs": [],
   "source": [
    "fig=go.Figure()"
   ]
  },
  {
   "cell_type": "code",
   "execution_count": null,
   "id": "56421633-37a3-48bc-95c5-894393c7de38",
   "metadata": {},
   "outputs": [],
   "source": [
    "fig.add_trace(go.Candlestick(x=data.index,\n",
    "                             open=data['Open'],\n",
    "                             high=data['High'],\n",
    "                             low=data['Low'],\n",
    "                             close=data['Close'], name='market data'))"
   ]
  },
  {
   "cell_type": "code",
   "execution_count": null,
   "id": "e76dd50e-248e-4624-b6fc-b24cff409bb7",
   "metadata": {},
   "outputs": [],
   "source": [
    "fig.update_layout(\n",
    "    title='SPY live price action',\n",
    "    yaxis_title='Index Price(USD)')"
   ]
  },
  {
   "cell_type": "code",
   "execution_count": null,
   "id": "b7979653-aae4-457e-8246-35a4db76508b",
   "metadata": {},
   "outputs": [],
   "source": [
    "fig.update_xaxes(\n",
    "    rangeslider_visible=True,\n",
    "    rangeselector=dict(\n",
    "        buttons=list([\n",
    "            dict(count=15, label'15m', step='minute', stepmode='backward'),\n",
    "            dict(count=45, label='45m', step='minute', stepmode='backward'),\n",
    "            dict(count=1, label='HTD', step='hour', stepmode='todate'),\n",
    "            dict(count=3, label='3h', step='hour', stepmode='backward'),\n",
    "            dict(step='all')\n",
    "        ])\n",
    "    )\n",
    ")\n"
   ]
  },
  {
   "cell_type": "code",
   "execution_count": null,
   "id": "0f3dc1ef-f5d5-4ffc-aa3f-58a0a6e348dc",
   "metadata": {},
   "outputs": [],
   "source": [
    "fig.show()"
   ]
  }
 ],
 "metadata": {
  "kernelspec": {
   "display_name": "Python 3 (ipykernel)",
   "language": "python",
   "name": "python3"
  },
  "language_info": {
   "codemirror_mode": {
    "name": "ipython",
    "version": 3
   },
   "file_extension": ".py",
   "mimetype": "text/x-python",
   "name": "python",
   "nbconvert_exporter": "python",
   "pygments_lexer": "ipython3",
   "version": "3.11.3"
  }
 },
 "nbformat": 4,
 "nbformat_minor": 5
}
